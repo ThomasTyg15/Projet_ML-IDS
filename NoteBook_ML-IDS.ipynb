{
 "cells": [
  {
   "cell_type": "markdown",
   "metadata": {},
   "source": [
    "PROJECT : ML-IDS"
   ]
  },
  {
   "cell_type": "markdown",
   "metadata": {},
   "source": [
    "Intelligent IoT Intrusion Detection System This project builds a Machine Learning-based IDS to protect smart homes. With IoT growth, vulnerabilities have increased. Using network traffic data, we apply EDA, feature engineering, and models like Decision Trees to detect threats in real time."
   ]
  },
  {
   "cell_type": "markdown",
   "metadata": {},
   "source": [
    "Import all the libraries we will need for this project"
   ]
  },
  {
   "cell_type": "code",
   "execution_count": 1,
   "metadata": {},
   "outputs": [],
   "source": [
    "import pandas as pd\n",
    "import numpy as np\n",
    "from sklearn.preprocessing import LabelEncoder, StandardScaler\n",
    "from sklearn.model_selection import train_test_split\n",
    "from sklearn.decomposition import PCA\n",
    "import seaborn as sns\n",
    "import matplotlib.pyplot as plt\n",
    "import plotly.express as px\n",
    "from plotly.subplots import make_subplots\n",
    "from sklearn.preprocessing import LabelEncoder"
   ]
  },
  {
   "cell_type": "markdown",
   "metadata": {},
   "source": [
    "Load the dataset"
   ]
  },
  {
   "cell_type": "code",
   "execution_count": 9,
   "metadata": {},
   "outputs": [],
   "source": [
    "# Load dataset\n",
    "df = pd.read_csv(\"D:\\Documents\\ESILV\\Matières A4\\Core Computer Science\\Machine Learning\\Projet_ML-IDS\\Dataset\\dataset_invade.csv\")"
   ]
  },
  {
   "cell_type": "markdown",
   "metadata": {},
   "source": [
    "Analyse the data to understand it and clean it"
   ]
  },
  {
   "cell_type": "code",
   "execution_count": 3,
   "metadata": {},
   "outputs": [
    {
     "name": "stdout",
     "output_type": "stream",
     "text": [
      "duration                    int64\n",
      "protocol_type              object\n",
      "service                    object\n",
      "flag                       object\n",
      "src_bytes                   int64\n",
      "dst_bytes                   int64\n",
      "land                        int64\n",
      "wrong_fragment              int64\n",
      "urgent                      int64\n",
      "hot                         int64\n",
      "logged_in                   int64\n",
      "num_compromised             int64\n",
      "count                       int64\n",
      "srv_count                   int64\n",
      "serror_rate               float64\n",
      "rerror_rate               float64\n",
      "same_srv_rate             float64\n",
      "diff_srv_rate             float64\n",
      "srv_diff_host_rate        float64\n",
      "dst_host_count              int64\n",
      "dst_host_srv_count          int64\n",
      "dst_host_same_srv_rate    float64\n",
      "dst_host_diff_srv_rate    float64\n",
      "attack                     object\n",
      "dtype: object\n"
     ]
    }
   ],
   "source": [
    "print(df.dtypes)"
   ]
  },
  {
   "cell_type": "code",
   "execution_count": 12,
   "metadata": {},
   "outputs": [
    {
     "name": "stdout",
     "output_type": "stream",
     "text": [
      "Missing values:\n",
      " duration                  0\n",
      "protocol_type             0\n",
      "service                   0\n",
      "flag                      0\n",
      "src_bytes                 0\n",
      "dst_bytes                 0\n",
      "land                      0\n",
      "wrong_fragment            0\n",
      "urgent                    0\n",
      "hot                       0\n",
      "logged_in                 0\n",
      "num_compromised           0\n",
      "count                     0\n",
      "srv_count                 0\n",
      "serror_rate               0\n",
      "rerror_rate               0\n",
      "same_srv_rate             0\n",
      "diff_srv_rate             0\n",
      "srv_diff_host_rate        0\n",
      "dst_host_count            0\n",
      "dst_host_srv_count        0\n",
      "dst_host_same_srv_rate    0\n",
      "dst_host_diff_srv_rate    0\n",
      "attack                    0\n",
      "protocol_type_encoded     0\n",
      "service_encoded           0\n",
      "flag_encoded              0\n",
      "attack_encoded            0\n",
      "dtype: int64\n",
      "Data statistics:\n",
      "             duration     src_bytes     dst_bytes           land  \\\n",
      "count  148517.000000  1.485170e+05  1.485170e+05  148517.000000   \n",
      "mean      276.779305  4.022795e+04  1.708885e+04       0.000215   \n",
      "std      2460.683131  5.409612e+06  3.703525e+06       0.014677   \n",
      "min         0.000000  0.000000e+00  0.000000e+00       0.000000   \n",
      "25%         0.000000  0.000000e+00  0.000000e+00       0.000000   \n",
      "50%         0.000000  4.400000e+01  0.000000e+00       0.000000   \n",
      "75%         0.000000  2.780000e+02  5.710000e+02       0.000000   \n",
      "max     57715.000000  1.379964e+09  1.309937e+09       1.000000   \n",
      "\n",
      "       wrong_fragment         urgent            hot      logged_in  \\\n",
      "count   148517.000000  148517.000000  148517.000000  148517.000000   \n",
      "mean         0.020523       0.000202       0.189379       0.402789   \n",
      "std          0.240069       0.019417       2.013160       0.490461   \n",
      "min          0.000000       0.000000       0.000000       0.000000   \n",
      "25%          0.000000       0.000000       0.000000       0.000000   \n",
      "50%          0.000000       0.000000       0.000000       0.000000   \n",
      "75%          0.000000       0.000000       0.000000       1.000000   \n",
      "max          3.000000       3.000000     101.000000       1.000000   \n",
      "\n",
      "       num_compromised          count  ...  srv_diff_host_rate  \\\n",
      "count    148517.000000  148517.000000  ...       148517.000000   \n",
      "mean          0.255062      83.336561  ...            0.097441   \n",
      "std          22.231375     116.760741  ...            0.258886   \n",
      "min           0.000000       0.000000  ...            0.000000   \n",
      "25%           0.000000       2.000000  ...            0.000000   \n",
      "50%           0.000000      13.000000  ...            0.000000   \n",
      "75%           0.000000     141.000000  ...            0.000000   \n",
      "max        7479.000000     511.000000  ...            1.000000   \n",
      "\n",
      "       dst_host_count  dst_host_srv_count  dst_host_same_srv_rate  \\\n",
      "count   148517.000000       148517.000000           148517.000000   \n",
      "mean       183.928042          119.462661                0.534521   \n",
      "std         98.528328          111.232318                0.448061   \n",
      "min          0.000000            0.000000                0.000000   \n",
      "25%         87.000000           11.000000                0.050000   \n",
      "50%        255.000000           72.000000                0.600000   \n",
      "75%        255.000000          255.000000                1.000000   \n",
      "max        255.000000          255.000000                1.000000   \n",
      "\n",
      "       dst_host_diff_srv_rate    attack  protocol_type_encoded  \\\n",
      "count           148517.000000  148517.0          148517.000000   \n",
      "mean                 0.084103       0.0               1.055751   \n",
      "std                  0.194102       0.0               0.422304   \n",
      "min                  0.000000       0.0               0.000000   \n",
      "25%                  0.000000       0.0               1.000000   \n",
      "50%                  0.020000       0.0               1.000000   \n",
      "75%                  0.070000       0.0               1.000000   \n",
      "max                  1.000000       0.0               2.000000   \n",
      "\n",
      "       service_encoded   flag_encoded  attack_encoded  \n",
      "count    148517.000000  148517.000000   148517.000000  \n",
      "mean         31.727048       6.963930        0.481177  \n",
      "std          16.291494       2.774951        0.499647  \n",
      "min           0.000000       0.000000        0.000000  \n",
      "25%          20.000000       5.000000        0.000000  \n",
      "50%          24.000000       9.000000        0.000000  \n",
      "75%          49.000000       9.000000        1.000000  \n",
      "max          69.000000      10.000000        1.000000  \n",
      "\n",
      "[8 rows x 25 columns]\n",
      "duration                    int64\n",
      "protocol_type              object\n",
      "service                    object\n",
      "flag                       object\n",
      "src_bytes                   int64\n",
      "dst_bytes                   int64\n",
      "land                        int64\n",
      "wrong_fragment              int64\n",
      "urgent                      int64\n",
      "hot                         int64\n",
      "logged_in                   int64\n",
      "num_compromised             int64\n",
      "count                       int64\n",
      "srv_count                   int64\n",
      "serror_rate               float64\n",
      "rerror_rate               float64\n",
      "same_srv_rate             float64\n",
      "diff_srv_rate             float64\n",
      "srv_diff_host_rate        float64\n",
      "dst_host_count              int64\n",
      "dst_host_srv_count          int64\n",
      "dst_host_same_srv_rate    float64\n",
      "dst_host_diff_srv_rate    float64\n",
      "attack                      int64\n",
      "protocol_type_encoded       int32\n",
      "service_encoded             int32\n",
      "flag_encoded                int32\n",
      "attack_encoded              int32\n",
      "dtype: object\n"
     ]
    }
   ],
   "source": [
    "# Check for missing values\n",
    "print(\"Missing values:\\n\", df.isnull().sum())\n",
    "\n",
    "# Basic statistics\n",
    "print(\"Data statistics:\\n\", df.describe())\n",
    "\n",
    "# types\n",
    "print(df.dtypes)"
   ]
  },
  {
   "cell_type": "markdown",
   "metadata": {},
   "source": [
    "No Missing Values: There are no missing values in the dataset, meaning no data imputation is required, allowing for a straightforward training process.\n",
    "\n",
    "Duration, src_bytes, and dst_bytes: These continuous features show high variability, especially in src_bytes and dst_bytes, with values ranging from zero to over a billion. This high variance might require scaling or normalization to improve model performance.\n",
    "\n",
    "Binary and Discrete Features: Some features, like land, urgent, and logged_in, have low values and can act as flags for certain types of behavior. Additionally, features like wrong_fragment and hot vary minimally but may be critical indicators for certain attacks.\n",
    "\n",
    "Network Traffic Attributes: Features such as count, srv_count, serror_rate, and rerror_rate are statistical measures of network interactions, which help identify unusual patterns or outliers in traffic. High standard deviations in count and srv_count suggest occasional spikes, potentially indicating bursts of traffic or repeated connection attempts typical in certain attack types.\n",
    "\n",
    "Service-Related Ratios: Metrics like same_srv_rate, diff_srv_rate, and srv_diff_host_rate provide insight into how connections are distributed across services and hosts. For example, a high same_srv_rate might indicate a consistent connection to one service, while a high srv_diff_host_rate could suggest an attack attempting connections across multiple hosts.\n",
    "\n",
    "Host-Specific Features: Attributes like dst_host_count and dst_host_srv_count provide details on the concentration of connections to specific hosts. The high variance in these features, especially dst_host_same_srv_rate, may signal unusual access patterns or targeted attacks.\n",
    "\n",
    "Attack Labels: The attack label is critical for supervised learning approaches, as it allows for training a model to differentiate between normal and potentially malicious activities."
   ]
  },
  {
   "cell_type": "markdown",
   "metadata": {},
   "source": [
    "Data imbalance"
   ]
  },
  {
   "cell_type": "code",
   "execution_count": 5,
   "metadata": {},
   "outputs": [
    {
     "name": "stdout",
     "output_type": "stream",
     "text": [
      "Class distribution:\n",
      " attack\n",
      "No     77054\n",
      "Yes    71463\n",
      "Name: count, dtype: int64\n"
     ]
    }
   ],
   "source": [
    "# Data imbalance\n",
    "print(\"Class distribution:\\n\", df['attack'].value_counts())"
   ]
  },
  {
   "cell_type": "markdown",
   "metadata": {},
   "source": [
    "Exploration visuelle"
   ]
  },
  {
   "cell_type": "code",
   "execution_count": null,
   "metadata": {},
   "outputs": [],
   "source": []
  }
 ],
 "metadata": {
  "kernelspec": {
   "display_name": "base",
   "language": "python",
   "name": "python3"
  },
  "language_info": {
   "codemirror_mode": {
    "name": "ipython",
    "version": 3
   },
   "file_extension": ".py",
   "mimetype": "text/x-python",
   "name": "python",
   "nbconvert_exporter": "python",
   "pygments_lexer": "ipython3",
   "version": "3.11.5"
  }
 },
 "nbformat": 4,
 "nbformat_minor": 2
}
