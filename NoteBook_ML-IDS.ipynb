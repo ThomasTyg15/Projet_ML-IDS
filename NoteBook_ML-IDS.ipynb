{
 "cells": [
  {
   "cell_type": "markdown",
   "metadata": {},
   "source": [
    "Intelligent IoT Intrusion Detection System This project builds a Machine Learning-based IDS to protect smart homes. With IoT growth, vulnerabilities have increased. Using network traffic data, we apply EDA, feature engineering, and models like Decision Trees to detect threats in real time."
   ]
  },
  {
   "cell_type": "code",
   "execution_count": 2,
   "metadata": {},
   "outputs": [
    {
     "name": "stdout",
     "output_type": "stream",
     "text": [
      "<class 'pandas.core.frame.DataFrame'>\n",
      "RangeIndex: 148517 entries, 0 to 148516\n",
      "Data columns (total 24 columns):\n",
      " #   Column                  Non-Null Count   Dtype  \n",
      "---  ------                  --------------   -----  \n",
      " 0   duration                148517 non-null  int64  \n",
      " 1   protocol_type           148517 non-null  object \n",
      " 2   service                 148517 non-null  object \n",
      " 3   flag                    148517 non-null  object \n",
      " 4   src_bytes               148517 non-null  int64  \n",
      " 5   dst_bytes               148517 non-null  int64  \n",
      " 6   land                    148517 non-null  int64  \n",
      " 7   wrong_fragment          148517 non-null  int64  \n",
      " 8   urgent                  148517 non-null  int64  \n",
      " 9   hot                     148517 non-null  int64  \n",
      " 10  logged_in               148517 non-null  int64  \n",
      " 11  num_compromised         148517 non-null  int64  \n",
      " 12  count                   148517 non-null  int64  \n",
      " 13  srv_count               148517 non-null  int64  \n",
      " 14  serror_rate             148517 non-null  float64\n",
      " 15  rerror_rate             148517 non-null  float64\n",
      " 16  same_srv_rate           148517 non-null  float64\n",
      " 17  diff_srv_rate           148517 non-null  float64\n",
      " 18  srv_diff_host_rate      148517 non-null  float64\n",
      " 19  dst_host_count          148517 non-null  int64  \n",
      " 20  dst_host_srv_count      148517 non-null  int64  \n",
      " 21  dst_host_same_srv_rate  148517 non-null  float64\n",
      " 22  dst_host_diff_srv_rate  148517 non-null  float64\n",
      " 23  attack                  148517 non-null  object \n",
      "dtypes: float64(7), int64(13), object(4)\n",
      "memory usage: 27.2+ MB\n",
      "None\n",
      "duration                  0\n",
      "protocol_type             0\n",
      "service                   0\n",
      "flag                      0\n",
      "src_bytes                 0\n",
      "dst_bytes                 0\n",
      "land                      0\n",
      "wrong_fragment            0\n",
      "urgent                    0\n",
      "hot                       0\n",
      "logged_in                 0\n",
      "num_compromised           0\n",
      "count                     0\n",
      "srv_count                 0\n",
      "serror_rate               0\n",
      "rerror_rate               0\n",
      "same_srv_rate             0\n",
      "diff_srv_rate             0\n",
      "srv_diff_host_rate        0\n",
      "dst_host_count            0\n",
      "dst_host_srv_count        0\n",
      "dst_host_same_srv_rate    0\n",
      "dst_host_diff_srv_rate    0\n",
      "attack                    0\n",
      "dtype: int64\n"
     ]
    }
   ],
   "source": [
    "import pandas as pd\n",
    "import numpy as np\n",
    "import matplotlib.pyplot as plt\n",
    "import seaborn as sns\n",
    "\n",
    "# Charger les données\n",
    "data = pd.read_csv('D:\\Documents\\ESILV\\Matières A4\\Core Computer Science\\Machine Learning\\Projet_ML-IDS\\Dataset\\dataset_invade.csv')\n",
    "\n",
    "# Analyse exploratoire des données (EDA)\n",
    "\n",
    "# 1. Vérifier la qualité des données\n",
    "print(data.info())\n",
    "print(data.isnull().sum())\n",
    "\n"
   ]
  }
 ],
 "metadata": {
  "kernelspec": {
   "display_name": "base",
   "language": "python",
   "name": "python3"
  },
  "language_info": {
   "codemirror_mode": {
    "name": "ipython",
    "version": 3
   },
   "file_extension": ".py",
   "mimetype": "text/x-python",
   "name": "python",
   "nbconvert_exporter": "python",
   "pygments_lexer": "ipython3",
   "version": "3.11.5"
  }
 },
 "nbformat": 4,
 "nbformat_minor": 2
}
